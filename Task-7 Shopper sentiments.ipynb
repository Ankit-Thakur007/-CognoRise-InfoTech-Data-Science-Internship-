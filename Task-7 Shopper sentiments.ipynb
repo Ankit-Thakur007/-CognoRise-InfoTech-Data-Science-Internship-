{
  "cells": [
    {
      "cell_type": "markdown",
      "metadata": {
        "id": "-TFcof3qc6sc"
      },
      "source": [
        "# Task 7: Shopper sentiments\n",
        "\n",
        "- The ShopperSentiments dataset, comprising over 250,000 customer reviews on\n",
        "TeePublic, provides key insights for online fashion retail. Attributes include\n",
        "reviewer_id, store_location, date, title, review, and review-label (rating 1 to 5).\n",
        "- With unique features like geospatial coordinates and temporal data, it's a valuable\n",
        "resource for sentiment analysis, geospatial patterns, temporal trends, and review\n",
        "categorization.\n",
        "- TeePublic's diverse fashion collection is the backdrop for understanding customer\n",
        "sentiments and preferences."
      ]
    },
    {
      "cell_type": "markdown",
      "metadata": {
        "id": "MEMuVLWcc6sf"
      },
      "source": [
        "# Shopper Sentiments dataset\n",
        "\n",
        "## Description\n",
        "This extensive dataset, comprised of over 250,000 customer reviews, offers a detailed exploration of customer experiences on TeePublic, an online platform renowned for its diverse collection of fashion items. The dataset spans crucial information, including `reviewer_id`, `store_location`, `latitude`, `longitude`, `date`, `month`, `year`, `title`, `review`, and the `review-label` indicating a rating on a scale of 1 to 5.\n",
        "\n",
        "## Columns description\n",
        "`reviewer_id`: A unique identifier for each reviewer, ensuring anonymity and privacy.\n",
        "`store_location`: Geographic information specifying the location of the TeePublic fashion store.\n",
        "`latitude`: The latitude coordinate of the store's location, providing precise geospatial data.\n",
        "`longitude`: The longitude coordinate of the store's location, offering detailed geographic insights.\n",
        "`date`: The specific date when the review was posted, enabling temporal analysis.\n",
        "`month`: The month in which the review was posted, facilitating monthly trends exploration.\n",
        "`year`: The year of the review, allowing for yearly analysis and trend identification.\n",
        "`title`: The title associated with each review, capturing succinct sentiments or key points.\n",
        "`review`: The textual content of the review, presenting detailed feedback from customers.\n",
        "`review-label`: The reviewer's rating on a scale from 1 to 5, providing a quantitative measure of satisfaction.\n",
        "\n",
        "## Store where data came from information:\n",
        "TeePublic is a prominent online platform celebrated for its extensive collection of fashion items, including apparel, accessories, and more. This dataset, comprising reviews from the fashion store, serves as a valuable resource to understand customer sentiments and preferences within the dynamic landscape of online fashion retail."
      ]
    },
    {
      "cell_type": "code",
      "execution_count": 1,
      "metadata": {
        "id": "no16q_ywc6sg"
      },
      "outputs": [],
      "source": [
        "import numpy as np\n",
        "import pandas as pd\n",
        "import matplotlib.pyplot as plt\n",
        "import seaborn as sns\n",
        "import plotly.express as px\n",
        "import nltk\n",
        "from ydata_profiling import ProfileReport\n",
        "from sklearn.feature_extraction.text import TfidfVectorizer\n",
        "from sklearn.model_selection import train_test_split\n",
        "from sklearn.metrics import classification_report, confusion_matrix\n",
        "from sklearn.pipeline import Pipeline\n",
        "from sklearn.ensemble import RandomForestClassifier, GradientBoostingClassifier, VotingClassifier\n",
        "from sklearn.compose import ColumnTransformer\n",
        "from sklearn.preprocessing import MinMaxScaler\n",
        "from xgboost import XGBClassifier\n",
        "from warnings import filterwarnings\n",
        "from nltk.corpus import stopwords\n",
        "from nltk.tokenize import word_tokenize\n",
        "\n",
        "filterwarnings('ignore')\n",
        "%matplotlib inline\n",
        "plt.style.use('ggplot')"
      ]
    },
    {
      "cell_type": "markdown",
      "metadata": {
        "id": "ADKia-4-c6si"
      },
      "source": [
        "Retrieving data from Kaggle API, (using local machine)"
      ]
    },
    {
      "cell_type": "code",
      "execution_count": 2,
      "metadata": {
        "id": "zp6NSLZpc6si"
      },
      "outputs": [
        {
          "data": {
            "text/html": [
              "<div>\n",
              "<style scoped>\n",
              "    .dataframe tbody tr th:only-of-type {\n",
              "        vertical-align: middle;\n",
              "    }\n",
              "\n",
              "    .dataframe tbody tr th {\n",
              "        vertical-align: top;\n",
              "    }\n",
              "\n",
              "    .dataframe thead th {\n",
              "        text-align: right;\n",
              "    }\n",
              "</style>\n",
              "<table border=\"1\" class=\"dataframe\">\n",
              "  <thead>\n",
              "    <tr style=\"text-align: right;\">\n",
              "      <th></th>\n",
              "      <th>reviewer_id</th>\n",
              "      <th>store_location</th>\n",
              "      <th>latitude</th>\n",
              "      <th>longitude</th>\n",
              "      <th>date</th>\n",
              "      <th>month</th>\n",
              "      <th>year</th>\n",
              "      <th>title</th>\n",
              "      <th>review</th>\n",
              "      <th>review-label</th>\n",
              "    </tr>\n",
              "  </thead>\n",
              "  <tbody>\n",
              "    <tr>\n",
              "      <th>0</th>\n",
              "      <td>0.0</td>\n",
              "      <td>US</td>\n",
              "      <td>37.090240</td>\n",
              "      <td>-95.712891</td>\n",
              "      <td>2023</td>\n",
              "      <td>6</td>\n",
              "      <td>2015 00:00:00</td>\n",
              "      <td>Great help with lost order</td>\n",
              "      <td>I had an order that was lost in transit. When ...</td>\n",
              "      <td>5</td>\n",
              "    </tr>\n",
              "    <tr>\n",
              "      <th>1</th>\n",
              "      <td>1.0</td>\n",
              "      <td>US</td>\n",
              "      <td>37.090240</td>\n",
              "      <td>-95.712891</td>\n",
              "      <td>2023</td>\n",
              "      <td>6</td>\n",
              "      <td>2024 00:00:00</td>\n",
              "      <td>I ordered the wrong size tee and hadï¿½ï¿½ï¿½</td>\n",
              "      <td>I ordered the wrong size tee and had difficult...</td>\n",
              "      <td>5</td>\n",
              "    </tr>\n",
              "    <tr>\n",
              "      <th>2</th>\n",
              "      <td>2.0</td>\n",
              "      <td>US</td>\n",
              "      <td>37.090240</td>\n",
              "      <td>-95.712891</td>\n",
              "      <td>2023</td>\n",
              "      <td>6</td>\n",
              "      <td>2017 00:00:00</td>\n",
              "      <td>These guys offer the best customerï¿½ï¿½ï¿½</td>\n",
              "      <td>These guys offer the best customer service in ...</td>\n",
              "      <td>5</td>\n",
              "    </tr>\n",
              "    <tr>\n",
              "      <th>3</th>\n",
              "      <td>3.0</td>\n",
              "      <td>US</td>\n",
              "      <td>37.090240</td>\n",
              "      <td>-95.712891</td>\n",
              "      <td>2023</td>\n",
              "      <td>6</td>\n",
              "      <td>2024 00:00:00</td>\n",
              "      <td>Good Stuff</td>\n",
              "      <td>Looked for an obscure phrase on a shirt. Teepu...</td>\n",
              "      <td>5</td>\n",
              "    </tr>\n",
              "    <tr>\n",
              "      <th>4</th>\n",
              "      <td>4.0</td>\n",
              "      <td>CA</td>\n",
              "      <td>56.130366</td>\n",
              "      <td>-106.346771</td>\n",
              "      <td>2023</td>\n",
              "      <td>6</td>\n",
              "      <td>2023 00:00:00</td>\n",
              "      <td>My order arrived in a good timelyï¿½ï¿½ï¿½</td>\n",
              "      <td>My order arrived in a good timely fashion &amp; th...</td>\n",
              "      <td>4</td>\n",
              "    </tr>\n",
              "  </tbody>\n",
              "</table>\n",
              "</div>"
            ],
            "text/plain": [
              "   reviewer_id store_location   latitude   longitude  date  month  \\\n",
              "0          0.0             US  37.090240  -95.712891  2023      6   \n",
              "1          1.0             US  37.090240  -95.712891  2023      6   \n",
              "2          2.0             US  37.090240  -95.712891  2023      6   \n",
              "3          3.0             US  37.090240  -95.712891  2023      6   \n",
              "4          4.0             CA  56.130366 -106.346771  2023      6   \n",
              "\n",
              "            year                                          title  \\\n",
              "0  2015 00:00:00                     Great help with lost order   \n",
              "1  2024 00:00:00  I ordered the wrong size tee and hadï¿½ï¿½ï¿½   \n",
              "2  2017 00:00:00    These guys offer the best customerï¿½ï¿½ï¿½   \n",
              "3  2024 00:00:00                                     Good Stuff   \n",
              "4  2023 00:00:00     My order arrived in a good timelyï¿½ï¿½ï¿½   \n",
              "\n",
              "                                              review  review-label  \n",
              "0  I had an order that was lost in transit. When ...             5  \n",
              "1  I ordered the wrong size tee and had difficult...             5  \n",
              "2  These guys offer the best customer service in ...             5  \n",
              "3  Looked for an obscure phrase on a shirt. Teepu...             5  \n",
              "4  My order arrived in a good timely fashion & th...             4  "
            ]
          },
          "execution_count": 2,
          "metadata": {},
          "output_type": "execute_result"
        }
      ],
      "source": [
        "# # Local PC data retrieving\n",
        "# from kaggle.api.kaggle_api_extended import KaggleApi\n",
        "\n",
        "# # Initialize the Kaggle API\n",
        "# api = KaggleApi()\n",
        "# api.authenticate()\n",
        "\n",
        "# # Download the dataset\n",
        "# api.dataset_download_files('nelgiriyewithana/shoppersentiments', path='D:/Estiven/Datos/Proyectos/CognoRise_Infotech/data/raw', unzip=True)\n",
        "\n",
        "# Read the data as a pandas dataframe\n",
        "df = pd.read_csv(\"C:/Ankit/Dataset/CognoRise_Infotech/raw/TeePublic_review.csv\", encoding='latin1')\n",
        "df.head()"
      ]
    },
    {
      "cell_type": "markdown",
      "metadata": {
        "id": "tsJhYIQGc6sk"
      },
      "source": [
        "# Data cleaning and overview of the data"
      ]
    },
    {
      "cell_type": "markdown",
      "metadata": {
        "id": "p-Df4f9ic6sk"
      },
      "source": [
        "ProfileReport of the data"
      ]
    },
    {
      "cell_type": "markdown",
      "metadata": {
        "id": "ipY04BIpc6sk"
      },
      "source": [
        "From this firts ProfileReport it can be concluded the following:\n",
        "- The dataset is mid-high dimensionality with more than $278.000$ rows and 10 predictor variables.\n",
        "- The data has nulls, specifically in the `review` column, with more than $11 \\%$ nulls of total data.\n",
        "- `reviewer_id` is an useless column, it has to be deleted.\n",
        "- Sells reviews increase in month 12, apparently December.\n",
        "- Most of the reviews are from US products.\n",
        "- The `review` and `title` variables have many stopwords and they are the most common as excpected, it has to be made a treatment of this for sentiment analysis.\n",
        "- Most reviews are good.\n",
        "- The `review` and `title` variables are the ones with null data."
      ]
    },
    {
      "cell_type": "markdown",
      "metadata": {
        "id": "bVgKPylWc6sl"
      },
      "source": [
        "Analysis of unique values"
      ]
    },
    {
      "cell_type": "markdown",
      "metadata": {
        "id": "1cwUA53bc6sl"
      },
      "source": [
        "By this analysis it can be concluded that the `year` column has not any relationship with the date-related columns, also by the correlation heatmap given by the ProfileReport, these variables have almost nothing in common and it's weird that in the dataset description it is not mentioned what exactly this column is. Is not the year the review was made because are years more than the present one, (2024), so I decide to eliminate this column based on its unclear proccedence."
      ]
    },
    {
      "cell_type": "code",
      "execution_count": 5,
      "metadata": {
        "colab": {
          "base_uri": "https://localhost:8080/"
        },
        "id": "2mVYCqMKc6sl",
        "outputId": "f1edfbd2-5c19-43d8-f91e-f388fbeb0c5c"
      },
      "outputs": [
        {
          "name": "stdout",
          "output_type": "stream",
          "text": [
            "The types of data in the dataset are: \n",
            "reviewer_id       float64\n",
            "store_location     object\n",
            "latitude          float64\n",
            "longitude         float64\n",
            "date                int64\n",
            "month               int64\n",
            "year               object\n",
            "title              object\n",
            "review             object\n",
            "review-label        int64\n",
            "dtype: object\n"
          ]
        }
      ],
      "source": [
        "print(f'The types of data in the dataset are: \\n{df.dtypes}')"
      ]
    },
    {
      "cell_type": "code",
      "execution_count": 6,
      "metadata": {
        "colab": {
          "base_uri": "https://localhost:8080/"
        },
        "id": "T-UZkrBwc6sl",
        "outputId": "370c173b-5e85-4652-ea59-e97a44fa79f0"
      },
      "outputs": [
        {
          "name": "stdout",
          "output_type": "stream",
          "text": [
            "Unique values for column reviewer_id are: [0.00000e+00 1.00000e+00 2.00000e+00 ... 2.78097e+05 2.78098e+05\n",
            "         nan]\n",
            "Unique values for column store_location are: ['US' 'CA' 'GB' 'AU' 'NZ' 'DE' 'BG' 'NL' 'SE' 'MY' 'NO' 'MA' 'IN' 'IT'\n",
            " 'JP' 'PT' 'BE' 'FR' 'CH' 'HU' 'SG' 'TH' 'HK' 'SI' 'AT' 'CZ' 'UA' 'ID'\n",
            " 'RO' 'ES' 'MX' 'IL' 'RS' 'PK' 'GI' 'SK' 'FI' 'LT' 'IE' 'PR' 'GU' 'LU'\n",
            " 'JO' 'AE' 'IS' 'PL' 'HR' 'EC' 'BR' 'TR' 'DK' 'MT' 'BS' 'CY' 'CO' 'JM'\n",
            " 'TW' 'NC' 'DO' 'CK' 'KR' 'MR' 'HT' 'VN' 'SR' 'EE' 'RU' 'PA' 'PH' 'CR'\n",
            " 'IM' 'KH' 'EG' 'DZ' 'VE' 'NI' 'BH' 'CL' 'BM' 'TC' 'LK' 'SA' 'GR' 'BO'\n",
            " 'AR' 'GT' 'TN' 'LV' 'CN' 'GD' 'ZA' 'QA' 'UY' 'AF' 'KW' 'BD' 'KZ' 'KY'\n",
            " 'SV' 'KE' 'MD' 'PE' 'AX' 'GY' 'TT' 'HN' 'GP' 'PY' 'SY' 'VI' 'WS' 'BB'\n",
            " 'GE' 'IQ' 'LB' 'TZ' 'NG' 'OM' 'SX' 'LI' 'LC' 'MN' 'GG' 'MK' 'BZ' 'JE'\n",
            " 'MM' 'CM' 'MV' 'UZ' 'BA' 'PF' 'GF' 'GH' 'AW' 'MZ' 'CI' 'MW' 'CW' 'MO'\n",
            " 'UG']\n",
            "Unique values for column date are: [2023 2022 2021 2020 2019 2018]\n",
            "Unique values for column month are: [ 6  3  5  4  1 12 10  2  7 11  8  9]\n",
            "Unique values for column year are: ['2015 00:00:00' '2024 00:00:00' '2017 00:00:00' '2023 00:00:00'\n",
            " '2019 00:00:00' '2021 00:00:00' '2014 00:00:00' '2022 00:00:00'\n",
            " '2018 00:00:00' '2025 00:00:00' '2016 00:00:00' '2007 00:00:00'\n",
            " '2008 00:00:00' '2031 00:00:00' '2020 00:00:00' '2006 00:00:00'\n",
            " '2002 00:00:00' '2009 00:00:00' '2004 00:00:00' '2013 00:00:00'\n",
            " '2010 00:00:00' '2001 00:00:00' '2012 00:00:00' '2005 00:00:00'\n",
            " '2029 00:00:00' '2030 00:00:00' '2003 00:00:00' '2011 00:00:00'\n",
            " '2026 00:00:00' '2028 00:00:00' '2027 00:00:00']\n",
            "Unique values for column review-label are: [5 4 3 1 2]\n"
          ]
        }
      ],
      "source": [
        "for i in df.columns:\n",
        "    if i not in ['title', 'review', 'latitude', 'longitude']:\n",
        "        print(f'Unique values for column {i} are: {df[i].unique()}')"
      ]
    },
    {
      "cell_type": "markdown",
      "metadata": {
        "id": "2J_y66rMc6sl"
      },
      "source": [
        "Eliminating unimportant columns"
      ]
    },
    {
      "cell_type": "code",
      "execution_count": 7,
      "metadata": {
        "id": "_Ji3rc17c6sm"
      },
      "outputs": [],
      "source": [
        "df.drop(['year', 'reviewer_id'], axis=1, inplace=True)"
      ]
    },
    {
      "cell_type": "markdown",
      "metadata": {
        "id": "S3UOQ4TQc6sm"
      },
      "source": [
        "Information about nulls, infinite values and duplicates on the data"
      ]
    },
    {
      "cell_type": "code",
      "execution_count": 8,
      "metadata": {
        "colab": {
          "base_uri": "https://localhost:8080/"
        },
        "id": "NGSS0iECc6sm",
        "outputId": "707a132d-0f50-4866-b52c-6573a910623a"
      },
      "outputs": [
        {
          "name": "stdout",
          "output_type": "stream",
          "text": [
            "Total of null data: 30515\n",
            "Total of duplicated data: 1536\n",
            "Percentage of total duplicated data: 0.6%\n",
            "Percentage of total null data: 11.0%\n"
          ]
        }
      ],
      "source": [
        "nulls = df.isnull()\n",
        "duplicated_rows = df.duplicated()\n",
        "\n",
        "print(f'Total of null data: {df.isnull().sum().sum()}')\n",
        "print(f'Total of duplicated data: {duplicated_rows.sum()}')\n",
        "print(f'Percentage of total duplicated data: {duplicated_rows.mean() * 100:.1f}%')\n",
        "print(f'Percentage of total null data: {df.isnull().sum().sum() / df.shape[0] * 100:.1f}%')"
      ]
    },
    {
      "cell_type": "code",
      "execution_count": 9,
      "metadata": {
        "id": "-AYGcvZWc6sm"
      },
      "outputs": [],
      "source": [
        "# Dropping duplicated rows\n",
        "df = df.copy()[~duplicated_rows]"
      ]
    },
    {
      "cell_type": "markdown",
      "metadata": {
        "id": "VwPFcMOsc6sm"
      },
      "source": [
        "Renaming columns so it has a clear pattern"
      ]
    },
    {
      "cell_type": "code",
      "execution_count": 10,
      "metadata": {
        "colab": {
          "base_uri": "https://localhost:8080/"
        },
        "id": "aC7ucCC9c6sn",
        "outputId": "d62e6501-7329-4649-de18-6822e63f7824"
      },
      "outputs": [
        {
          "name": "stdout",
          "output_type": "stream",
          "text": [
            "New columns names: Index(['store_location', 'latitude', 'longitude', 'date', 'month', 'title',\n",
            "       'review', 'review_label'],\n",
            "      dtype='object')\n"
          ]
        }
      ],
      "source": [
        "new_columns = [column.replace('-', '_') for column in df.columns]\n",
        "df.columns = new_columns\n",
        "print(f'New columns names: {df.columns}')"
      ]
    },
    {
      "cell_type": "markdown",
      "metadata": {
        "id": "Ypbsttd6c6sn"
      },
      "source": [
        "From the ProfileReport it can be concluded that the `review` and `title` columns are the ones with null data, so these columns without its nulls will be selected to make the Machine Learning model for sentiment analysis, but the EDA, (Exploratory Data Analysis), will be made with the entire dataset containing nulls since it will be more focused on the other variables and how to use them to improve the sentiment analysis model."
      ]
    },
    {
      "cell_type": "code",
      "execution_count": 11,
      "metadata": {
        "id": "bm86q_bbc6sn"
      },
      "outputs": [],
      "source": [
        "# Dividing the dataset into two parts: one with null values and the other without null values\n",
        "df_eda = df.copy()\n",
        "df_sentiment = df[~df.isnull().any(axis=1)]"
      ]
    },
    {
      "cell_type": "markdown",
      "metadata": {
        "id": "dMJkikXBc6sn"
      },
      "source": [
        "# EDA, (Exploratory Data Analysis)"
      ]
    },
    {
      "cell_type": "code",
      "execution_count": 13,
      "metadata": {
        "colab": {
          "base_uri": "https://localhost:8080/",
          "height": 144
        },
        "id": "_GB6SCkjc6sn",
        "outputId": "a1bcecac-11da-4402-af96-c073610597b0"
      },
      "outputs": [
        {
          "data": {
            "text/html": [
              "<div>\n",
              "<style scoped>\n",
              "    .dataframe tbody tr th:only-of-type {\n",
              "        vertical-align: middle;\n",
              "    }\n",
              "\n",
              "    .dataframe tbody tr th {\n",
              "        vertical-align: top;\n",
              "    }\n",
              "\n",
              "    .dataframe thead th {\n",
              "        text-align: right;\n",
              "    }\n",
              "</style>\n",
              "<table border=\"1\" class=\"dataframe\">\n",
              "  <thead>\n",
              "    <tr style=\"text-align: right;\">\n",
              "      <th></th>\n",
              "      <th>store_location</th>\n",
              "      <th>latitude</th>\n",
              "      <th>longitude</th>\n",
              "      <th>date</th>\n",
              "      <th>month</th>\n",
              "      <th>title</th>\n",
              "      <th>review</th>\n",
              "      <th>review_label</th>\n",
              "    </tr>\n",
              "  </thead>\n",
              "  <tbody>\n",
              "    <tr>\n",
              "      <th>0</th>\n",
              "      <td>US</td>\n",
              "      <td>37.09024</td>\n",
              "      <td>-95.712891</td>\n",
              "      <td>2023</td>\n",
              "      <td>6</td>\n",
              "      <td>Great help with lost order</td>\n",
              "      <td>I had an order that was lost in transit. When ...</td>\n",
              "      <td>5</td>\n",
              "    </tr>\n",
              "    <tr>\n",
              "      <th>1</th>\n",
              "      <td>US</td>\n",
              "      <td>37.09024</td>\n",
              "      <td>-95.712891</td>\n",
              "      <td>2023</td>\n",
              "      <td>6</td>\n",
              "      <td>I ordered the wrong size tee and hadï¿½ï¿½ï¿½</td>\n",
              "      <td>I ordered the wrong size tee and had difficult...</td>\n",
              "      <td>5</td>\n",
              "    </tr>\n",
              "    <tr>\n",
              "      <th>2</th>\n",
              "      <td>US</td>\n",
              "      <td>37.09024</td>\n",
              "      <td>-95.712891</td>\n",
              "      <td>2023</td>\n",
              "      <td>6</td>\n",
              "      <td>These guys offer the best customerï¿½ï¿½ï¿½</td>\n",
              "      <td>These guys offer the best customer service in ...</td>\n",
              "      <td>5</td>\n",
              "    </tr>\n",
              "  </tbody>\n",
              "</table>\n",
              "</div>"
            ],
            "text/plain": [
              "  store_location  latitude  longitude  date  month  \\\n",
              "0             US  37.09024 -95.712891  2023      6   \n",
              "1             US  37.09024 -95.712891  2023      6   \n",
              "2             US  37.09024 -95.712891  2023      6   \n",
              "\n",
              "                                           title  \\\n",
              "0                     Great help with lost order   \n",
              "1  I ordered the wrong size tee and hadï¿½ï¿½ï¿½   \n",
              "2    These guys offer the best customerï¿½ï¿½ï¿½   \n",
              "\n",
              "                                              review  review_label  \n",
              "0  I had an order that was lost in transit. When ...             5  \n",
              "1  I ordered the wrong size tee and had difficult...             5  \n",
              "2  These guys offer the best customer service in ...             5  "
            ]
          },
          "execution_count": 13,
          "metadata": {},
          "output_type": "execute_result"
        }
      ],
      "source": [
        "df.head(3)"
      ]
    },
    {
      "cell_type": "markdown",
      "metadata": {},
      "source": [
        "From the following graph it can also be concluded that there exists an imbalance in the `review_label` column."
      ]
    },
    {
      "cell_type": "code",
      "execution_count": 14,
      "metadata": {
        "colab": {
          "base_uri": "https://localhost:8080/",
          "height": 724
        },
        "id": "KXnS4YuXc6sn",
        "outputId": "307f31ea-95d2-4099-889c-66beb2e74ced"
      },
      "outputs": [
        {
          "data": {
            "image/png": "[encoded data removed]",
            "text/plain": [
              "<Figure size 1200x800 with 1 Axes>"
            ]
          },
          "metadata": {},
          "output_type": "display_data"
        }
      ],
      "source": [
        "top_countries = df_eda['store_location'].value_counts().head(5).index # Top 5 countries with more reviews\n",
        "df_top_countries = df_eda[df_eda['store_location'].isin(top_countries)] # Filtering the data with the top 5 countries\n",
        "\n",
        "# Sorting the data\n",
        "df_top_countries = df_top_countries.sort_values('store_location')\n",
        "\n",
        "plt.figure(figsize=(12, 8))\n",
        "# Plotting the distribution of the review-label for the top 5 countries more repeated\n",
        "ax = sns.countplot(data=df_top_countries, x='store_location',\n",
        "                   hue='review_label', order = df_top_countries['store_location'].value_counts().index, palette='Blues')\n",
        "\n",
        "plt.legend(title='Review label', title_fontsize='13', loc='upper right')\n",
        "plt.title('Distribution of the review punctuation for the Top 5 most frequent countries', size=15)\n",
        "plt.xlabel('Store location', size=13)\n",
        "plt.ylabel('Count', size=13)\n",
        "\n",
        "plt.show()"
      ]
    },
    {
      "cell_type": "code",
      "execution_count": 15,
      "metadata": {
        "colab": {
          "base_uri": "https://localhost:8080/",
          "height": 617
        },
        "id": "vqTsen0ec6so",
        "outputId": "737dd1d7-b1d7-4e0e-c503-13c597474842"
      },
      "outputs": [
        {
          "data": {
            "application/vnd.plotly.v1+json": {
              "config": {
                "plotlyServerURL": "https://plot.ly"
              },
              "data": [
                {
                  "customdata": [
                    [
                      3.1,
                      23
                    ],
                    [
                      1.6,
                      5
                    ],
                    [
                      2.8,
                      16
                    ],
                    [
                      4.3,
                      73
                    ],
                    [
                      8.4,
                      4664
                    ],
                    [
                      0,
                      1
                    ],
                    [
                      0,
                      1
                    ],
                    [
                      0.7,
                      2
                    ],
                    [
                      1.4,
                      4
                    ],
                    [
                      1.4,
                      4
                    ],
                    [
                      5.3,
                      191
                    ],
                    [
                      2.2,
                      9
                    ],
                    [
                      2.3,
                      10
                    ],
                    [
                      1.8,
                      6
                    ],
                    [
                      1.1,
                      3
                    ],
                    [
                      4.3,
                      76
                    ],
                    [
                      2.4,
                      11
                    ],
                    [
                      0,
                      1
                    ],
                    [
                      9.5,
                      13108
                    ],
                    [
                      4.8,
                      126
                    ],
                    [
                      0,
                      1
                    ],
                    [
                      0,
                      1
                    ],
                    [
                      2.6,
                      13
                    ],
                    [
                      0,
                      1
                    ],
                    [
                      1.6,
                      5
                    ],
                    [
                      2.8,
                      17
                    ],
                    [
                      3.6,
                      35
                    ],
                    [
                      0,
                      1
                    ],
                    [
                      1.9,
                      7
                    ],
                    [
                      4.1,
                      60
                    ],
                    [
                      7,
                      1141
                    ],
                    [
                      4.6,
                      96
                    ],
                    [
                      2.6,
                      14
                    ],
                    [
                      2.4,
                      11
                    ],
                    [
                      1.6,
                      5
                    ],
                    [
                      2.5,
                      12
                    ],
                    [
                      1.9,
                      7
                    ],
                    [
                      5.1,
                      163
                    ],
                    [
                      4.3,
                      73
                    ],
                    [
                      5.9,
                      379
                    ],
                    [
                      8.4,
                      4640
                    ],
                    [
                      0.7,
                      2
                    ],
                    [
                      1.9,
                      7
                    ],
                    [
                      0,
                      1
                    ],
                    [
                      0.7,
                      2
                    ],
                    [
                      0,
                      1
                    ],
                    [
                      0.7,
                      2
                    ],
                    [
                      0,
                      1
                    ],
                    [
                      3.7,
                      40
                    ],
                    [
                      1.6,
                      5
                    ],
                    [
                      3,
                      21
                    ],
                    [
                      1.1,
                      3
                    ],
                    [
                      4.1,
                      62
                    ],
                    [
                      1.6,
                      5
                    ],
                    [
                      3.7,
                      40
                    ],
                    [
                      0.7,
                      2
                    ],
                    [
                      4.2,
                      68
                    ],
                    [
                      2.8,
                      17
                    ],
                    [
                      5.4,
                      213
                    ],
                    [
                      5.2,
                      183
                    ],
                    [
                      2.1,
                      8
                    ],
                    [
                      3.8,
                      45
                    ],
                    [
                      1.1,
                      3
                    ],
                    [
                      2.8,
                      17
                    ],
                    [
                      5.5,
                      239
                    ],
                    [
                      1.1,
                      3
                    ],
                    [
                      2.5,
                      12
                    ],
                    [
                      1.1,
                      3
                    ],
                    [
                      4.9,
                      131
                    ],
                    [
                      0,
                      1
                    ],
                    [
                      0,
                      1
                    ],
                    [
                      3.4,
                      31
                    ],
                    [
                      2.2,
                      9
                    ],
                    [
                      1.1,
                      3
                    ],
                    [
                      0,
                      1
                    ],
                    [
                      0.7,
                      2
                    ],
                    [
                      0,
                      1
                    ],
                    [
                      0,
                      1
                    ],
                    [
                      2.2,
                      9
                    ],
                    [
                      2.9,
                      19
                    ],
                    [
                      3.1,
                      23
                    ],
                    [
                      1.9,
                      7
                    ],
                    [
                      3.4,
                      30
                    ],
                    [
                      0,
                      1
                    ],
                    [
                      0,
                      1
                    ],
                    [
                      0,
                      1
                    ],
                    [
                      0,
                      1
                    ],
                    [
                      0,
                      1
                    ],
                    [
                      0,
                      1
                    ],
                    [
                      2.3,
                      10
                    ],
                    [
                      0.7,
                      2
                    ],
                    [
                      0,
                      1
                    ],
                    [
                      5.4,
                      219
                    ],
                    [
                      3.9,
                      48
                    ],
                    [
                      0,
                      1
                    ],
                    [
                      1.1,
                      3
                    ],
                    [
                      0,
                      1
                    ],
                    [
                      1.1,
                      3
                    ],
                    [
                      6.4,
                      621
                    ],
                    [
                      4.6,
                      101
                    ],
                    [
                      6.1,
                      437
                    ],
                    [
                      0.7,
                      2
                    ],
                    [
                      3,
                      21
                    ],
                    [
                      1.1,
                      3
                    ],
                    [
                      0,
                      1
                    ],
                    [
                      2.8,
                      16
                    ],
                    [
                      2.1,
                      8
                    ],
                    [
                      4.6,
                      100
                    ],
                    [
                      5.1,
                      162
                    ],
                    [
                      4.3,
                      77
                    ],
                    [
                      1.1,
                      3
                    ],
                    [
                      0.7,
                      2
                    ],
                    [
                      3.1,
                      22
                    ],
                    [
                      2.5,
                      12
                    ],
                    [
                      2.6,
                      13
                    ],
                    [
                      2.8,
                      16
                    ],
                    [
                      5.2,
                      180
                    ],
                    [
                      5.2,
                      174
                    ],
                    [
                      1.8,
                      6
                    ],
                    [
                      3.2,
                      24
                    ],
                    [
                      1.1,
                      3
                    ],
                    [
                      1.8,
                      6
                    ],
                    [
                      0,
                      1
                    ],
                    [
                      0,
                      1
                    ],
                    [
                      0,
                      1
                    ],
                    [
                      3.3,
                      28
                    ],
                    [
                      1.1,
                      3
                    ],
                    [
                      1.9,
                      7
                    ],
                    [
                      2.4,
                      11
                    ],
                    [
                      3.2,
                      25
                    ],
                    [
                      0,
                      1
                    ],
                    [
                      2.2,
                      9
                    ],
                    [
                      0,
                      1
                    ],
                    [
                      12.4,
                      247834
                    ],
                    [
                      1.9,
                      7
                    ],
                    [
                      0,
                      1
                    ],
                    [
                      2.5,
                      12
                    ],
                    [
                      1.1,
                      3
                    ],
                    [
                      2.2,
                      9
                    ],
                    [
                      0,
                      1
                    ],
                    [
                      2.7,
                      15
                    ]
                  ],
                  "geo": "geo",
                  "hovertemplate": "<b>%{hovertext}</b><br><br>log_review_count=%{marker.size}<br>latitude=%{lat}<br>longitude=%{lon}<br>log_review_count_rounded=%{marker.color}<br>review_count=%{customdata[1]}<extra></extra>",
                  "hovertext": [
                    "AE",
                    "AF",
                    "AR",
                    "AT",
                    "AU",
                    "AW",
                    "AX",
                    "BA",
                    "BB",
                    "BD",
                    "BE",
                    "BG",
                    "BH",
                    "BM",
                    "BO",
                    "BR",
                    "BS",
                    "BZ",
                    "CA",
                    "CH",
                    "CI",
                    "CK",
                    "CL",
                    "CM",
                    "CN",
                    "CO",
                    "CR",
                    "CW",
                    "CY",
                    "CZ",
                    "DE",
                    "DK",
                    "DO",
                    "DZ",
                    "EC",
                    "EE",
                    "EG",
                    "ES",
                    "FI",
                    "FR",
                    "GB",
                    "GD",
                    "GE",
                    "GF",
                    "GG",
                    "GH",
                    "GI",
                    "GP",
                    "GR",
                    "GT",
                    "GU",
                    "GY",
                    "HK",
                    "HN",
                    "HR",
                    "HT",
                    "HU",
                    "ID",
                    "IE",
                    "IL",
                    "IM",
                    "IN",
                    "IQ",
                    "IS",
                    "IT",
                    "JE",
                    "JM",
                    "JO",
                    "JP",
                    "KE",
                    "KH",
                    "KR",
                    "KW",
                    "KY",
                    "KZ",
                    "LB",
                    "LC",
                    "LI",
                    "LK",
                    "LT",
                    "LU",
                    "LV",
                    "MA",
                    "MD",
                    "MK",
                    "MM",
                    "MN",
                    "MO",
                    "MR",
                    "MT",
                    "MV",
                    "MW",
                    "MX",
                    "MY",
                    "MZ",
                    "NC",
                    "NG",
                    "NI",
                    "NL",
                    "NO",
                    "NZ",
                    "OM",
                    "PA",
                    "PE",
                    "PF",
                    "PH",
                    "PK",
                    "PL",
                    "PR",
                    "PT",
                    "PY",
                    "QA",
                    "RO",
                    "RS",
                    "RU",
                    "SA",
                    "SE",
                    "SG",
                    "SI",
                    "SK",
                    "SR",
                    "SV",
                    "SX",
                    "SY",
                    "TC",
                    "TH",
                    "TN",
                    "TR",
                    "TT",
                    "TW",
                    "TZ",
                    "UA",
                    "UG",
                    "US",
                    "UY",
                    "UZ",
                    "VE",
                    "VI",
                    "VN",
                    "WS",
                    "ZA"
                  ],
                  "lat": [
                    23.424076,
                    33.93911,
                    -38.416097,
                    47.516231,
                    -25.274398,
                    12.52111,
                    60.1785247,
                    43.915886,
                    13.193887,
                    23.684994,
                    50.503887,
                    42.733883,
                    26.0667,
                    32.3078,
                    -16.290154,
                    -14.235004,
                    25.03428,
                    17.189877,
                    56.130366,
                    46.818188,
                    7.539989,
                    -21.236736,
                    -35.675147,
                    7.369722,
                    35.86166,
                    4.570868,
                    9.748917,
                    12.16957,
                    35.126413,
                    49.817492,
                    51.165691,
                    56.26392,
                    18.735693,
                    28.033886,
                    -1.831239,
                    58.595272,
                    26.820553,
                    40.463667,
                    61.92411,
                    46.227638,
                    54.7877149,
                    12.1165,
                    42.315407,
                    3.933889,
                    49.4481982,
                    7.946527,
                    36.140751,
                    16.265,
                    39.074208,
                    15.783471,
                    13.444304,
                    4.860416,
                    22.3193039,
                    15.199999,
                    45.1,
                    18.971187,
                    47.162494,
                    -0.789275,
                    53.7797554,
                    31.046051,
                    54.236107,
                    20.593684,
                    33.223191,
                    64.963051,
                    41.87194,
                    49.2137711,
                    18.109581,
                    30.585164,
                    36.204824,
                    -0.023559,
                    12.565679,
                    35.907757,
                    29.31166,
                    19.3133,
                    48.019573,
                    33.854721,
                    13.909444,
                    47.1410392,
                    7.873054,
                    55.169438,
                    49.815273,
                    56.879635,
                    31.791702,
                    47.411631,
                    41.608635,
                    21.916221,
                    46.862496,
                    22.198745,
                    21.00789,
                    35.937496,
                    3.202778,
                    -13.254308,
                    23.634501,
                    4.210484,
                    -18.665695,
                    -20.904305,
                    9.081999,
                    12.865416,
                    52.132633,
                    60.472024,
                    -40.900557,
                    21.4735329,
                    8.537981,
                    -9.189967,
                    -17.679742,
                    12.879721,
                    30.375321,
                    51.919438,
                    18.220833,
                    39.399872,
                    -23.442503,
                    25.354826,
                    45.943161,
                    44.016521,
                    61.52401,
                    23.885942,
                    60.128161,
                    1.352083,
                    46.151241,
                    48.669026,
                    3.919305,
                    13.794185,
                    18.04248,
                    34.802075,
                    21.694025,
                    15.870032,
                    33.886917,
                    38.963745,
                    10.691803,
                    35.86166,
                    -6.369028,
                    48.379433,
                    1.373333,
                    37.09024,
                    -32.522779,
                    41.377491,
                    6.42375,
                    18.335765,
                    14.058324,
                    -13.759029,
                    -30.559482
                  ],
                  "legendgroup": "",
                  "lon": [
                    53.847818,
                    67.709953,
                    -63.616672,
                    14.550072,
                    133.775136,
                    -69.968338,
                    19.9156105,
                    17.679076,
                    -59.543198,
                    90.356331,
                    4.469936,
                    25.48583,
                    50.5577,
                    -64.7505,
                    -63.588653,
                    -51.92528,
                    -77.39628,
                    -88.49765,
                    -106.346771,
                    8.227512,
                    -5.54708,
                    -159.777671,
                    -71.542969,
                    12.354722,
                    104.195397,
                    -74.297333,
                    -83.753428,
                    -68.99002,
                    33.429859,
                    15.472962,
                    10.451526,
                    9.501785,
                    -70.162651,
                    1.659626,
                    -78.183406,
                    25.013607,
                    30.802498,
                    -3.74922,
                    25.748151,
                    2.213749,
                    -6.4923145,
                    -61.679,
                    43.356892,
                    -53.125782,
                    -2.58949,
                    -1.023194,
                    -5.353585,
                    -61.551,
                    21.824312,
                    -90.230759,
                    144.793731,
                    -58.93018,
                    114.1693611,
                    -86.241905,
                    15.2,
                    -72.285215,
                    19.503304,
                    113.921327,
                    -7.3055309,
                    34.851612,
                    -4.548056,
                    78.96288,
                    43.679291,
                    -19.020835,
                    12.56738,
                    -2.1357662,
                    -77.297508,
                    36.238414,
                    138.252924,
                    37.906193,
                    104.990963,
                    127.766922,
                    47.481766,
                    -81.2546,
                    66.923684,
                    35.862285,
                    -60.978893,
                    9.520935,
                    80.771797,
                    23.881275,
                    6.129583,
                    24.603189,
                    -7.09262,
                    28.369885,
                    21.745275,
                    95.955974,
                    103.846656,
                    113.543873,
                    -10.940835,
                    14.375416,
                    73.22068,
                    34.301525,
                    -102.552784,
                    101.975766,
                    35.529562,
                    165.618042,
                    8.675277,
                    -85.207229,
                    5.291266,
                    8.468946,
                    174.885971,
                    55.975413,
                    -80.782127,
                    -75.015152,
                    -149.406843,
                    121.774017,
                    69.345116,
                    19.145136,
                    -66.590149,
                    -8.224454,
                    -58.443832,
                    51.183884,
                    24.96676,
                    21.005859,
                    105.318756,
                    45.079162,
                    18.643501,
                    103.819836,
                    14.995463,
                    19.699024,
                    -56.027783,
                    -88.89653,
                    -63.05483,
                    38.996815,
                    -71.797928,
                    100.992541,
                    9.537499,
                    35.243322,
                    -61.222503,
                    104.195397,
                    34.888822,
                    31.16558,
                    32.290275,
                    -95.712891,
                    -55.765835,
                    64.585262,
                    -66.58973,
                    -64.896335,
                    108.277199,
                    -172.104629,
                    22.937506
                  ],
                  "marker": {
                    "color": [
                      3.1,
                      1.6,
                      2.8,
                      4.3,
                      8.4,
                      0,
                      0,
                      0.7,
                      1.4,
                      1.4,
                      5.3,
                      2.2,
                      2.3,
                      1.8,
                      1.1,
                      4.3,
                      2.4,
                      0,
                      9.5,
                      4.8,
                      0,
                      0,
                      2.6,
                      0,
                      1.6,
                      2.8,
                      3.6,
                      0,
                      1.9,
                      4.1,
                      7,
                      4.6,
                      2.6,
                      2.4,
                      1.6,
                      2.5,
                      1.9,
                      5.1,
                      4.3,
                      5.9,
                      8.4,
                      0.7,
                      1.9,
                      0,
                      0.7,
                      0,
                      0.7,
                      0,
                      3.7,
                      1.6,
                      3,
                      1.1,
                      4.1,
                      1.6,
                      3.7,
                      0.7,
                      4.2,
                      2.8,
                      5.4,
                      5.2,
                      2.1,
                      3.8,
                      1.1,
                      2.8,
                      5.5,
                      1.1,
                      2.5,
                      1.1,
                      4.9,
                      0,
                      0,
                      3.4,
                      2.2,
                      1.1,
                      0,
                      0.7,
                      0,
                      0,
                      2.2,
                      2.9,
                      3.1,
                      1.9,
                      3.4,
                      0,
                      0,
                      0,
                      0,
                      0,
                      0,
                      2.3,
                      0.7,
                      0,
                      5.4,
                      3.9,
                      0,
                      1.1,
                      0,
                      1.1,
                      6.4,
                      4.6,
                      6.1,
                      0.7,
                      3,
                      1.1,
                      0,
                      2.8,
                      2.1,
                      4.6,
                      5.1,
                      4.3,
                      1.1,
                      0.7,
                      3.1,
                      2.5,
                      2.6,
                      2.8,
                      5.2,
                      5.2,
                      1.8,
                      3.2,
                      1.1,
                      1.8,
                      0,
                      0,
                      0,
                      3.3,
                      1.1,
                      1.9,
                      2.4,
                      3.2,
                      0,
                      2.2,
                      0,
                      12.4,
                      1.9,
                      0,
                      2.5,
                      1.1,
                      2.2,
                      0,
                      2.7
                    ],
                    "coloraxis": "coloraxis",
                    "colorbar": {
                      "ticktext": [
                        "0",
                        "100",
                        "10000",
                        "1000000",
                        "100000000"
                      ],
                      "tickvals": [
                        0,
                        2,
                        4,
                        6,
                        8
                      ]
                    },
                    "size": [
                      3.1,
                      1.6,
                      2.8,
                      4.3,
                      8.4,
                      0,
                      0,
                      0.7,
                      1.4,
                      1.4,
                      5.3,
                      2.2,
                      2.3,
                      1.8,
                      1.1,
                      4.3,
                      2.4,
                      0,
                      9.5,
                      4.8,
                      0,
                      0,
                      2.6,
                      0,
                      1.6,
                      2.8,
                      3.6,
                      0,
                      1.9,
                      4.1,
                      7,
                      4.6,
                      2.6,
                      2.4,
                      1.6,
                      2.5,
                      1.9,
                      5.1,
                      4.3,
                      5.9,
                      8.4,
                      0.7,
                      1.9,
                      0,
                      0.7,
                      0,
                      0.7,
                      0,
                      3.7,
                      1.6,
                      3,
                      1.1,
                      4.1,
                      1.6,
                      3.7,
                      0.7,
                      4.2,
                      2.8,
                      5.4,
                      5.2,
                      2.1,
                      3.8,
                      1.1,
                      2.8,
                      5.5,
                      1.1,
                      2.5,
                      1.1,
                      4.9,
                      0,
                      0,
                      3.4,
                      2.2,
                      1.1,
                      0,
                      0.7,
                      0,
                      0,
                      2.2,
                      2.9,
                      3.1,
                      1.9,
                      3.4,
                      0,
                      0,
                      0,
                      0,
                      0,
                      0,
                      2.3,
                      0.7,
                      0,
                      5.4,
                      3.9,
                      0,
                      1.1,
                      0,
                      1.1,
                      6.4,
                      4.6,
                      6.1,
                      0.7,
                      3,
                      1.1,
                      0,
                      2.8,
                      2.1,
                      4.6,
                      5.1,
                      4.3,
                      1.1,
                      0.7,
                      3.1,
                      2.5,
                      2.6,
                      2.8,
                      5.2,
                      5.2,
                      1.8,
                      3.2,
                      1.1,
                      1.8,
                      0,
                      0,
                      0,
                      3.3,
                      1.1,
                      1.9,
                      2.4,
                      3.2,
                      0,
                      2.2,
                      0,
                      12.4,
                      1.9,
                      0,
                      2.5,
                      1.1,
                      2.2,
                      0,
                      2.7
                    ],
                    "sizemode": "area",
                    "sizeref": 0.031,
                    "symbol": "circle"
                  },
                  "mode": "markers",
                  "name": "",
                  "showlegend": false,
                  "type": "scattergeo"
                }
              ],
              "layout": {
                "annotations": [
                  {
                    "font": {
                      "color": "black",
                      "size": 15
                    },
                    "showarrow": false,
                    "text": "Size of bubbles represents the log of review count.",
                    "x": 0.5,
                    "xref": "paper",
                    "y": -0.15,
                    "yref": "paper"
                  },
                  {
                    "font": {
                      "color": "black",
                      "size": 15
                    },
                    "showarrow": false,
                    "text": "This is made to better represent the data in the map.",
                    "x": 0.5,
                    "xref": "paper",
                    "y": -0.19,
                    "yref": "paper"
                  }
                ],
                "autosize": false,
                "coloraxis": {
                  "colorbar": {
                    "tickformat": ".1f",
                    "title": {
                      "text": "Log of Review Count"
                    }
                  },
                  "colorscale": [
                    [
                      0,
                      "rgb(196, 230, 195)"
                    ],
                    [
                      0.16666666666666666,
                      "rgb(150, 210, 164)"
                    ],
                    [
                      0.3333333333333333,
                      "rgb(109, 188, 144)"
                    ],
                    [
                      0.5,
                      "rgb(77, 162, 132)"
                    ],
                    [
                      0.6666666666666666,
                      "rgb(54, 135, 122)"
                    ],
                    [
                      0.8333333333333334,
                      "rgb(38, 107, 110)"
                    ],
                    [
                      1,
                      "rgb(29, 79, 96)"
                    ]
                  ]
                },
                "geo": {
                  "center": {},
                  "domain": {
                    "x": [
                      0,
                      1
                    ],
                    "y": [
                      0,
                      1
                    ]
                  },
                  "projection": {
                    "type": "natural earth"
                  }
                },
                "height": 600,
                "legend": {
                  "itemsizing": "constant",
                  "tracegroupgap": 0
                },
                "margin": {
                  "b": 100,
                  "l": 50,
                  "pad": 10,
                  "r": 50,
                  "t": 100
                },
                "template": {
                  "data": {
                    "bar": [
                      {
                        "error_x": {
                          "color": "#2a3f5f"
                        },
                        "error_y": {
                          "color": "#2a3f5f"
                        },
                        "marker": {
                          "line": {
                            "color": "#E5ECF6",
                            "width": 0.5
                          },
                          "pattern": {
                            "fillmode": "overlay",
                            "size": 10,
                            "solidity": 0.2
                          }
                        },
                        "type": "bar"
                      }
                    ],
                    "barpolar": [
                      {
                        "marker": {
                          "line": {
                            "color": "#E5ECF6",
                            "width": 0.5
                          },
                          "pattern": {
                            "fillmode": "overlay",
                            "size": 10,
                            "solidity": 0.2
                          }
                        },
                        "type": "barpolar"
                      }
                    ],
                    "carpet": [
                      {
                        "aaxis": {
                          "endlinecolor": "#2a3f5f",
                          "gridcolor": "white",
                          "linecolor": "white",
                          "minorgridcolor": "white",
                          "startlinecolor": "#2a3f5f"
                        },
                        "baxis": {
                          "endlinecolor": "#2a3f5f",
                          "gridcolor": "white",
                          "linecolor": "white",
                          "minorgridcolor": "white",
                          "startlinecolor": "#2a3f5f"
                        },
                        "type": "carpet"
                      }
                    ],
                    "choropleth": [
                      {
                        "colorbar": {
                          "outlinewidth": 0,
                          "ticks": ""
                        },
                        "type": "choropleth"
                      }
                    ],
                    "contour": [
                      {
                        "colorbar": {
                          "outlinewidth": 0,
                          "ticks": ""
                        },
                        "colorscale": [
                          [
                            0,
                            "#0d0887"
                          ],
                          [
                            0.1111111111111111,
                            "#46039f"
                          ],
                          [
                            0.2222222222222222,
                            "#7201a8"
                          ],
                          [
                            0.3333333333333333,
                            "#9c179e"
                          ],
                          [
                            0.4444444444444444,
                            "#bd3786"
                          ],
                          [
                            0.5555555555555556,
                            "#d8576b"
                          ],
                          [
                            0.6666666666666666,
                            "#ed7953"
                          ],
                          [
                            0.7777777777777778,
                            "#fb9f3a"
                          ],
                          [
                            0.8888888888888888,
                            "#fdca26"
                          ],
                          [
                            1,
                            "#f0f921"
                          ]
                        ],
                        "type": "contour"
                      }
                    ],
                    "contourcarpet": [
                      {
                        "colorbar": {
                          "outlinewidth": 0,
                          "ticks": ""
                        },
                        "type": "contourcarpet"
                      }
                    ],
                    "heatmap": [
                      {
                        "colorbar": {
                          "outlinewidth": 0,
                          "ticks": ""
                        },
                        "colorscale": [
                          [
                            0,
                            "#0d0887"
                          ],
                          [
                            0.1111111111111111,
                            "#46039f"
                          ],
                          [
                            0.2222222222222222,
                            "#7201a8"
                          ],
                          [
                            0.3333333333333333,
                            "#9c179e"
                          ],
                          [
                            0.4444444444444444,
                            "#bd3786"
                          ],
                          [
                            0.5555555555555556,
                            "#d8576b"
                          ],
                          [
                            0.6666666666666666,
                            "#ed7953"
                          ],
                          [
                            0.7777777777777778,
                            "#fb9f3a"
                          ],
                          [
                            0.8888888888888888,
                            "#fdca26"
                          ],
                          [
                            1,
                            "#f0f921"
                          ]
                        ],
                        "type": "heatmap"
                      }
                    ],
                    "heatmapgl": [
                      {
                        "colorbar": {
                          "outlinewidth": 0,
                          "ticks": ""
                        },
                        "colorscale": [
                          [
                            0,
                            "#0d0887"
                          ],
                          [
                            0.1111111111111111,
                            "#46039f"
                          ],
                          [
                            0.2222222222222222,
                            "#7201a8"
                          ],
                          [
                            0.3333333333333333,
                            "#9c179e"
                          ],
                          [
                            0.4444444444444444,
                            "#bd3786"
                          ],
                          [
                            0.5555555555555556,
                            "#d8576b"
                          ],
                          [
                            0.6666666666666666,
                            "#ed7953"
                          ],
                          [
                            0.7777777777777778,
                            "#fb9f3a"
                          ],
                          [
                            0.8888888888888888,
                            "#fdca26"
                          ],
                          [
                            1,
                            "#f0f921"
                          ]
                        ],
                        "type": "heatmapgl"
                      }
                    ],
                    "histogram": [
                      {
                        "marker": {
                          "pattern": {
                            "fillmode": "overlay",
                            "size": 10,
                            "solidity": 0.2
                          }
                        },
                        "type": "histogram"
                      }
                    ],
                    "histogram2d": [
                      {
                        "colorbar": {
                          "outlinewidth": 0,
                          "ticks": ""
                        },
                        "colorscale": [
                          [
                            0,
                            "#0d0887"
                          ],
                          [
                            0.1111111111111111,
                            "#46039f"
                          ],
                          [
                            0.2222222222222222,
                            "#7201a8"
                          ],
                          [
                            0.3333333333333333,
                            "#9c179e"
                          ],
                          [
                            0.4444444444444444,
                            "#bd3786"
                          ],
                          [
                            0.5555555555555556,
                            "#d8576b"
                          ],
                          [
                            0.6666666666666666,
                            "#ed7953"
                          ],
                          [
                            0.7777777777777778,
                            "#fb9f3a"
                          ],
                          [
                            0.8888888888888888,
                            "#fdca26"
                          ],
                          [
                            1,
                            "#f0f921"
                          ]
                        ],
                        "type": "histogram2d"
                      }
                    ],
                    "histogram2dcontour": [
                      {
                        "colorbar": {
                          "outlinewidth": 0,
                          "ticks": ""
                        },
                        "colorscale": [
                          [
                            0,
                            "#0d0887"
                          ],
                          [
                            0.1111111111111111,
                            "#46039f"
                          ],
                          [
                            0.2222222222222222,
                            "#7201a8"
                          ],
                          [
                            0.3333333333333333,
                            "#9c179e"
                          ],
                          [
                            0.4444444444444444,
                            "#bd3786"
                          ],
                          [
                            0.5555555555555556,
                            "#d8576b"
                          ],
                          [
                            0.6666666666666666,
                            "#ed7953"
                          ],
                          [
                            0.7777777777777778,
                            "#fb9f3a"
                          ],
                          [
                            0.8888888888888888,
                            "#fdca26"
                          ],
                          [
                            1,
                            "#f0f921"
                          ]
                        ],
                        "type": "histogram2dcontour"
                      }
                    ],
                    "mesh3d": [
                      {
                        "colorbar": {
                          "outlinewidth": 0,
                          "ticks": ""
                        },
                        "type": "mesh3d"
                      }
                    ],
                    "parcoords": [
                      {
                        "line": {
                          "colorbar": {
                            "outlinewidth": 0,
                            "ticks": ""
                          }
                        },
                        "type": "parcoords"
                      }
                    ],
                    "pie": [
                      {
                        "automargin": true,
                        "type": "pie"
                      }
                    ],
                    "scatter": [
                      {
                        "fillpattern": {
                          "fillmode": "overlay",
                          "size": 10,
                          "solidity": 0.2
                        },
                        "type": "scatter"
                      }
                    ],
                    "scatter3d": [
                      {
                        "line": {
                          "colorbar": {
                            "outlinewidth": 0,
                            "ticks": ""
                          }
                        },
                        "marker": {
                          "colorbar": {
                            "outlinewidth": 0,
                            "ticks": ""
                          }
                        },
                        "type": "scatter3d"
                      }
                    ],
                    "scattercarpet": [
                      {
                        "marker": {
                          "colorbar": {
                            "outlinewidth": 0,
                            "ticks": ""
                          }
                        },
                        "type": "scattercarpet"
                      }
                    ],
                    "scattergeo": [
                      {
                        "marker": {
                          "colorbar": {
                            "outlinewidth": 0,
                            "ticks": ""
                          }
                        },
                        "type": "scattergeo"
                      }
                    ],
                    "scattergl": [
                      {
                        "marker": {
                          "colorbar": {
                            "outlinewidth": 0,
                            "ticks": ""
                          }
                        },
                        "type": "scattergl"
                      }
                    ],
                    "scattermapbox": [
                      {
                        "marker": {
                          "colorbar": {
                            "outlinewidth": 0,
                            "ticks": ""
                          }
                        },
                        "type": "scattermapbox"
                      }
                    ],
                    "scatterpolar": [
                      {
                        "marker": {
                          "colorbar": {
                            "outlinewidth": 0,
                            "ticks": ""
                          }
                        },
                        "type": "scatterpolar"
                      }
                    ],
                    "scatterpolargl": [
                      {
                        "marker": {
                          "colorbar": {
                            "outlinewidth": 0,
                            "ticks": ""
                          }
                        },
                        "type": "scatterpolargl"
                      }
                    ],
                    "scatterternary": [
                      {
                        "marker": {
                          "colorbar": {
                            "outlinewidth": 0,
                            "ticks": ""
                          }
                        },
                        "type": "scatterternary"
                      }
                    ],
                    "surface": [
                      {
                        "colorbar": {
                          "outlinewidth": 0,
                          "ticks": ""
                        },
                        "colorscale": [
                          [
                            0,
                            "#0d0887"
                          ],
                          [
                            0.1111111111111111,
                            "#46039f"
                          ],
                          [
                            0.2222222222222222,
                            "#7201a8"
                          ],
                          [
                            0.3333333333333333,
                            "#9c179e"
                          ],
                          [
                            0.4444444444444444,
                            "#bd3786"
                          ],
                          [
                            0.5555555555555556,
                            "#d8576b"
                          ],
                          [
                            0.6666666666666666,
                            "#ed7953"
                          ],
                          [
                            0.7777777777777778,
                            "#fb9f3a"
                          ],
                          [
                            0.8888888888888888,
                            "#fdca26"
                          ],
                          [
                            1,
                            "#f0f921"
                          ]
                        ],
                        "type": "surface"
                      }
                    ],
                    "table": [
                      {
                        "cells": {
                          "fill": {
                            "color": "#EBF0F8"
                          },
                          "line": {
                            "color": "white"
                          }
                        },
                        "header": {
                          "fill": {
                            "color": "#C8D4E3"
                          },
                          "line": {
                            "color": "white"
                          }
                        },
                        "type": "table"
                      }
                    ]
                  },
                  "layout": {
                    "annotationdefaults": {
                      "arrowcolor": "#2a3f5f",
                      "arrowhead": 0,
                      "arrowwidth": 1
                    },
                    "autotypenumbers": "strict",
                    "coloraxis": {
                      "colorbar": {
                        "outlinewidth": 0,
                        "ticks": ""
                      }
                    },
                    "colorscale": {
                      "diverging": [
                        [
                          0,
                          "#8e0152"
                        ],
                        [
                          0.1,
                          "#c51b7d"
                        ],
                        [
                          0.2,
                          "#de77ae"
                        ],
                        [
                          0.3,
                          "#f1b6da"
                        ],
                        [
                          0.4,
                          "#fde0ef"
                        ],
                        [
                          0.5,
                          "#f7f7f7"
                        ],
                        [
                          0.6,
                          "#e6f5d0"
                        ],
                        [
                          0.7,
                          "#b8e186"
                        ],
                        [
                          0.8,
                          "#7fbc41"
                        ],
                        [
                          0.9,
                          "#4d9221"
                        ],
                        [
                          1,
                          "#276419"
                        ]
                      ],
                      "sequential": [
                        [
                          0,
                          "#0d0887"
                        ],
                        [
                          0.1111111111111111,
                          "#46039f"
                        ],
                        [
                          0.2222222222222222,
                          "#7201a8"
                        ],
                        [
                          0.3333333333333333,
                          "#9c179e"
                        ],
                        [
                          0.4444444444444444,
                          "#bd3786"
                        ],
                        [
                          0.5555555555555556,
                          "#d8576b"
                        ],
                        [
                          0.6666666666666666,
                          "#ed7953"
                        ],
                        [
                          0.7777777777777778,
                          "#fb9f3a"
                        ],
                        [
                          0.8888888888888888,
                          "#fdca26"
                        ],
                        [
                          1,
                          "#f0f921"
                        ]
                      ],
                      "sequentialminus": [
                        [
                          0,
                          "#0d0887"
                        ],
                        [
                          0.1111111111111111,
                          "#46039f"
                        ],
                        [
                          0.2222222222222222,
                          "#7201a8"
                        ],
                        [
                          0.3333333333333333,
                          "#9c179e"
                        ],
                        [
                          0.4444444444444444,
                          "#bd3786"
                        ],
                        [
                          0.5555555555555556,
                          "#d8576b"
                        ],
                        [
                          0.6666666666666666,
                          "#ed7953"
                        ],
                        [
                          0.7777777777777778,
                          "#fb9f3a"
                        ],
                        [
                          0.8888888888888888,
                          "#fdca26"
                        ],
                        [
                          1,
                          "#f0f921"
                        ]
                      ]
                    },
                    "colorway": [
                      "#636efa",
                      "#EF553B",
                      "#00cc96",
                      "#ab63fa",
                      "#FFA15A",
                      "#19d3f3",
                      "#FF6692",
                      "#B6E880",
                      "#FF97FF",
                      "#FECB52"
                    ],
                    "font": {
                      "color": "#2a3f5f"
                    },
                    "geo": {
                      "bgcolor": "white",
                      "lakecolor": "white",
                      "landcolor": "#E5ECF6",
                      "showlakes": true,
                      "showland": true,
                      "subunitcolor": "white"
                    },
                    "hoverlabel": {
                      "align": "left"
                    },
                    "hovermode": "closest",
                    "mapbox": {
                      "style": "light"
                    },
                    "paper_bgcolor": "white",
                    "plot_bgcolor": "#E5ECF6",
                    "polar": {
                      "angularaxis": {
                        "gridcolor": "white",
                        "linecolor": "white",
                        "ticks": ""
                      },
                      "bgcolor": "#E5ECF6",
                      "radialaxis": {
                        "gridcolor": "white",
                        "linecolor": "white",
                        "ticks": ""
                      }
                    },
                    "scene": {
                      "xaxis": {
                        "backgroundcolor": "#E5ECF6",
                        "gridcolor": "white",
                        "gridwidth": 2,
                        "linecolor": "white",
                        "showbackground": true,
                        "ticks": "",
                        "zerolinecolor": "white"
                      },
                      "yaxis": {
                        "backgroundcolor": "#E5ECF6",
                        "gridcolor": "white",
                        "gridwidth": 2,
                        "linecolor": "white",
                        "showbackground": true,
                        "ticks": "",
                        "zerolinecolor": "white"
                      },
                      "zaxis": {
                        "backgroundcolor": "#E5ECF6",
                        "gridcolor": "white",
                        "gridwidth": 2,
                        "linecolor": "white",
                        "showbackground": true,
                        "ticks": "",
                        "zerolinecolor": "white"
                      }
                    },
                    "shapedefaults": {
                      "line": {
                        "color": "#2a3f5f"
                      }
                    },
                    "ternary": {
                      "aaxis": {
                        "gridcolor": "white",
                        "linecolor": "white",
                        "ticks": ""
                      },
                      "baxis": {
                        "gridcolor": "white",
                        "linecolor": "white",
                        "ticks": ""
                      },
                      "bgcolor": "#E5ECF6",
                      "caxis": {
                        "gridcolor": "white",
                        "linecolor": "white",
                        "ticks": ""
                      }
                    },
                    "title": {
                      "x": 0.05
                    },
                    "xaxis": {
                      "automargin": true,
                      "gridcolor": "white",
                      "linecolor": "white",
                      "ticks": "",
                      "title": {
                        "standoff": 15
                      },
                      "zerolinecolor": "white",
                      "zerolinewidth": 2
                    },
                    "yaxis": {
                      "automargin": true,
                      "gridcolor": "white",
                      "linecolor": "white",
                      "ticks": "",
                      "title": {
                        "standoff": 15
                      },
                      "zerolinecolor": "white",
                      "zerolinewidth": 2
                    }
                  }
                },
                "title": {
                  "text": "Number of reviews per store location (Log scale)"
                },
                "width": 1000,
                "xaxis": {
                  "title": {
                    "text": "Longitude"
                  }
                },
                "yaxis": {
                  "title": {
                    "text": "Latitude"
                  }
                }
              }
            }
          },
          "metadata": {},
          "output_type": "display_data"
        }
      ],
      "source": [
        "# Aggregate data to get total reviews per store location\n",
        "df_agg = df_eda.groupby(['store_location', 'latitude', 'longitude']).size().reset_index(name='review_count')\n",
        "\n",
        "# Apply a logarithmic transformation to 'review_count'\n",
        "df_agg['log_review_count'] = round(np.log(df_agg['review_count']), 1)\n",
        "\n",
        "# Round the log_review_count to one decimal\n",
        "df_agg['log_review_count_rounded'] = df_agg['log_review_count'].round(1)\n",
        "\n",
        "# Create bubble map\n",
        "fig = px.scatter_geo(df_agg,\n",
        "                     lat='latitude',\n",
        "                     lon='longitude',\n",
        "                     color='log_review_count_rounded',\n",
        "                     size='log_review_count',\n",
        "                     hover_name='store_location',\n",
        "                     hover_data={'log_review_count_rounded': True, 'review_count': True},\n",
        "                     projection='natural earth',\n",
        "                     title='Number of reviews per store location (Log scale)',\n",
        "                     color_continuous_scale=px.colors.sequential.Blugrn\n",
        ")\n",
        "\n",
        "# Add colorbar\n",
        "fig.update_layout(coloraxis_colorbar=dict(title='Log of Review Count', tickformat='.1f'))\n",
        "\n",
        "# Improve color scale\n",
        "fig.update_traces(marker=dict(colorbar=dict(tickvals=[0, 2, 4, 6, 8], ticktext=['0', '100', '10000', '1000000', '100000000'])))\n",
        "\n",
        "# Add title and labels\n",
        "fig.update_layout(title_text=\"Number of reviews per store location (Log scale)\",\n",
        "                  xaxis_title=\"Longitude\",\n",
        "                  yaxis_title=\"Latitude\")\n",
        "\n",
        "# Add annotations\n",
        "fig.add_annotation(\n",
        "            x=0.5,\n",
        "            y=-0.15,\n",
        "            xref=\"paper\",\n",
        "            yref=\"paper\",\n",
        "            text=\"Size of bubbles represents the log of review count.\",\n",
        "            showarrow=False,\n",
        "            font=dict(\n",
        "                size=15,\n",
        "                color=\"black\"\n",
        "            )\n",
        "        )\n",
        "fig.add_annotation(\n",
        "            x=0.5,\n",
        "            y=-0.19,\n",
        "            xref=\"paper\",\n",
        "            yref=\"paper\",\n",
        "            text=\"This is made to better represent the data in the map.\",\n",
        "            showarrow=False,\n",
        "            font=dict(\n",
        "                size=15,\n",
        "                color=\"black\"\n",
        "            )\n",
        "        )\n",
        "\n",
        "# Adjust the size and margins of the map\n",
        "fig.update_layout(\n",
        "    autosize=False,\n",
        "    width=1000,\n",
        "    height=600,\n",
        "    margin=dict(\n",
        "        l=50,\n",
        "        r=50,\n",
        "        b=100,\n",
        "        t=100,\n",
        "        pad=10\n",
        "    )\n",
        ")\n",
        "\n",
        "fig.show()"
      ]
    },
    {
      "cell_type": "markdown",
      "metadata": {},
      "source": [
        "From the following histograms and boxplots of both `date` (year) and `month` columns, we can conclude the following:\n",
        "- The initial months of the year have the least amout of reviews of products.\n",
        "- The last months of the year are the most relevant regarding reviews of products, this could be by a tendency of more items bought due to festivities.\n",
        "- 2022 was the most important year for the company in termns of count of reviews of products. "
      ]
    },
    {
      "cell_type": "code",
      "execution_count": 16,
      "metadata": {},
      "outputs": [
        {
          "data": {
            "image/png": "[encoded data removed]",
            "text/plain": [
              "<Figure size 2000x1200 with 4 Axes>"
            ]
          },
          "metadata": {},
          "output_type": "display_data"
        }
      ],
      "source": [
        "fig, axs = plt.subplots(2, 2, figsize=(20, 12))\n",
        "\n",
        "# Histogram of the distribution of the review punctuation by month\n",
        "sns.histplot(df_eda['month'], bins=12, ax=axs[0, 0], color='skyblue')\n",
        "axs[0, 0].set_title('Distribution of shopping months', fontsize=16)\n",
        "axs[0, 0].set_xlabel('Month', fontsize=14)\n",
        "axs[0, 0].set_ylabel('Frequency', fontsize=14)\n",
        "axs[0, 0].set_xticks(range(1, 13))\n",
        "axs[0, 0].grid(True)\n",
        "\n",
        "# Histogram of the distribution of the review punctuation by year\n",
        "sns.histplot(df_eda['date'], bins=len(df_eda['date'].unique()), ax=axs[0, 1], color='blue')\n",
        "axs[0, 1].set_title('Distribution of shopping years', fontsize=16)\n",
        "axs[0, 1].set_xlabel('Year', fontsize=14)\n",
        "axs[0, 1].set_ylabel('Frequency', fontsize=14)\n",
        "axs[0, 1].grid(True)\n",
        "\n",
        "# Box plot of the review punctuation by month\n",
        "sns.boxplot(x=df_eda['month'], ax=axs[1, 0], color='skyblue')\n",
        "axs[1, 0].set_title('Box plot of shopping months', fontsize=16)\n",
        "axs[1, 0].set_xlabel('Month', fontsize=14)\n",
        "axs[1, 0].set_ylabel('Count', fontsize=14)\n",
        "axs[1, 0].set_xticks(range(1, 13))\n",
        "axs[1, 0].grid(True)\n",
        "\n",
        "# Box plot of the review punctuation by year\n",
        "sns.boxplot(x=df_eda['date'], ax=axs[1, 1], color='blue')\n",
        "axs[1, 1].set_title('Box plot of shopping years', fontsize=16)\n",
        "axs[1, 1].set_xlabel('Year', fontsize=14)\n",
        "axs[1, 1].set_ylabel('Count', fontsize=14)\n",
        "axs[1, 1].grid(True)\n",
        "\n",
        "plt.tight_layout()\n",
        "plt.show()"
      ]
    },
    {
      "cell_type": "code",
      "execution_count": 17,
      "metadata": {},
      "outputs": [
        {
          "name": "stdout",
          "output_type": "stream",
          "text": [
            "Description of the dataset: \n",
            "            latitude      longitude           date          month  \\\n",
            "count  276564.000000  276564.000000  276564.000000  276564.000000   \n",
            "mean       37.190765     -88.152294    2020.888865       7.197882   \n",
            "std        10.236827      37.099432       1.390961       3.676814   \n",
            "min       -40.900557    -172.104629    2018.000000       1.000000   \n",
            "25%        37.090240     -95.712891    2020.000000       4.000000   \n",
            "50%        37.090240     -95.712891    2021.000000       7.000000   \n",
            "75%        37.090240     -95.712891    2022.000000      11.000000   \n",
            "max        64.963051     174.885971    2023.000000      12.000000   \n",
            "\n",
            "        review_label  \n",
            "count  276564.000000  \n",
            "mean        4.407269  \n",
            "std         1.179915  \n",
            "min         1.000000  \n",
            "25%         4.000000  \n",
            "50%         5.000000  \n",
            "75%         5.000000  \n",
            "max         5.000000  \n"
          ]
        }
      ],
      "source": [
        "print(f'Description of the dataset: \\n{df_eda.describe()}')"
      ]
    },
    {
      "cell_type": "markdown",
      "metadata": {
        "id": "lHbhKy8Pc6so"
      },
      "source": [
        "# Classification model"
      ]
    },
    {
      "cell_type": "markdown",
      "metadata": {
        "id": "a819fsKXZdQz"
      },
      "source": [
        "The column `review_label` is imbalanced, we can see this looking at the quantity of rows from every label of the review"
      ]
    },
    {
      "cell_type": "markdown",
      "metadata": {},
      "source": [
        "I choose to make an undersampling of the data to just have 10716 rows of data for every label so each class has the same amount of data. In total, the data to train the model will be 53580 rows."
      ]
    },
    {
      "cell_type": "code",
      "execution_count": 18,
      "metadata": {
        "id": "0NOrYYbNc6sp"
      },
      "outputs": [],
      "source": [
        "# Undersampling technique to the df_sentiment dataset\n",
        "n_samples = 10716\n",
        "df_sentiment = df_sentiment.groupby('review_label').apply(lambda x: x.sample(n_samples)).reset_index(drop=True)\n",
        "\n",
        "df_sentiment['review_label'] = df_sentiment['review_label'].map({1:0, 2:1, 3:2, 4:3, 5:4}) # Mapping the labels to 0-4, some ML models need this format"
      ]
    },
    {
      "cell_type": "code",
      "execution_count": 19,
      "metadata": {
        "id": "Cxjo-Mxnc6sp"
      },
      "outputs": [],
      "source": [
        "# Converting the 'review_label' column to integer type\n",
        "df_sentiment['review_label'] = df_sentiment['review_label'].astype(int)\n",
        "\n",
        "# Dataset into features (X) and target (y)\n",
        "X = df_sentiment.drop('review_label', axis=1)\n",
        "y = df_sentiment['review_label']"
      ]
    },
    {
      "cell_type": "code",
      "execution_count": 20,
      "metadata": {
        "colab": {
          "base_uri": "https://localhost:8080/"
        },
        "id": "7dDRwbSIc6sp",
        "outputId": "ab2f605d-5bde-4a27-858c-367be4fc139b"
      },
      "outputs": [
        {
          "name": "stderr",
          "output_type": "stream",
          "text": [
            "[nltk_data] Downloading package stopwords to\n",
            "[nltk_data]     C:\\Users\\User\\AppData\\Roaming\\nltk_data...\n",
            "[nltk_data]   Package stopwords is already up-to-date!\n",
            "[nltk_data] Downloading package punkt to\n",
            "[nltk_data]     C:\\Users\\User\\AppData\\Roaming\\nltk_data...\n",
            "[nltk_data]   Package punkt is already up-to-date!\n"
          ]
        }
      ],
      "source": [
        "# Downloading stopwords and punctuation from NLTK\n",
        "nltk.download('stopwords')\n",
        "nltk.download('punkt')\n",
        "\n",
        "# Defining a function to tokenize text and remove stopwords\n",
        "stop_words = set(stopwords.words('english'))\n",
        "\n",
        "# Preprocess function to remove stopwords and punctuation\n",
        "def preprocess_text(text):\n",
        "    tokens = word_tokenize(text)\n",
        "    tokens = [word.lower() for word in tokens if word.isalnum()]\n",
        "    tokens = [word for word in tokens if not word in stop_words]\n",
        "    return ' '.join(tokens)\n",
        "\n",
        "# Applying text preprocessing to the 'review' and 'title' columns\n",
        "X['review'] = X['review'].apply(preprocess_text)\n",
        "X['title'] = X['title'].apply(preprocess_text)"
      ]
    },
    {
      "cell_type": "code",
      "execution_count": 21,
      "metadata": {
        "id": "M6z6QHVtc6sq"
      },
      "outputs": [],
      "source": [
        "# Train test split\n",
        "X_train, X_test, y_train, y_test = train_test_split(X, y, test_size=0.3, stratify=y) # stratify to keep the same distribution of the target variable"
      ]
    },
    {
      "cell_type": "markdown",
      "metadata": {},
      "source": [
        "Since this is a multivariative classification task, where the target are 5 classes, my preference is to utilize an Ensemble model, which essentially combines multiple machine learning models, (in this case, three), for classification tasks. The goal of this approach is to create a more robust model that leverages the strengths of each individual model."
      ]
    },
    {
      "cell_type": "code",
      "execution_count": 22,
      "metadata": {
        "id": "2pExNM9vc6sq"
      },
      "outputs": [],
      "source": [
        "# Preprocessing steps\n",
        "preprocess = ColumnTransformer(\n",
        "    transformers=[\n",
        "        ('text_review', TfidfVectorizer(), 'review'),    # vectorizing the 'review' column\n",
        "        ('text_title', TfidfVectorizer(), 'title'),      # vectorizing the 'title' column\n",
        "        ('text_location', TfidfVectorizer(), 'store_location'),  # vectorizing the 'store_location' column\n",
        "        ('scale_date', MinMaxScaler(), ['date']),  # MinMaxScaler for 'date'\n",
        "        ('scale_month', MinMaxScaler(), ['month']),  # MinMaxScaler for 'month'\n",
        "        ('scale_longitude', MinMaxScaler(), ['longitude']),  # MinMaxScaler for 'longitude'\n",
        "        ('scale_latitude', MinMaxScaler(), ['latitude']),  # MinMaxScaler for 'latitude'\n",
        "    ]\n",
        ")\n",
        "\n",
        "# Models to use and its parameters\n",
        "model1 = RandomForestClassifier(n_estimators=300, max_depth=60, min_samples_split=2, min_samples_leaf=2, random_state=42)\n",
        "model2 = GradientBoostingClassifier(n_estimators=300, learning_rate=0.1, subsample=0.5, max_depth=6, random_state=42)\n",
        "model3 = XGBClassifier(use_label_encoder=False, eval_metric='mlogloss', n_estimators=250, learning_rate=0.1, max_depth=6, gamma=0.5, subsample=0.6, random_state=42)\n",
        "\n",
        "# Creating the pipeline\n",
        "pipeline1 = Pipeline([\n",
        "    ('preprocess', preprocess), # Preprocessing\n",
        "    ('classifier', model1)       # Model\n",
        "])\n",
        "\n",
        "pipeline2 = Pipeline([\n",
        "    ('preprocess', preprocess),\n",
        "    ('classifier', model2)\n",
        "])\n",
        "\n",
        "pipeline3 = Pipeline([\n",
        "    ('preprocess', preprocess),\n",
        "    ('classifier', model3)\n",
        "])\n",
        "\n",
        "# Fit of each pipeline\n",
        "pipeline1.fit(X_train, y_train)\n",
        "pipeline2.fit(X_train, y_train)\n",
        "pipeline3.fit(X_train, y_train)\n",
        "\n",
        "# Creating the ensemble model with the fitted models\n",
        "ensemble_model = VotingClassifier(estimators=[\n",
        "    ('rf', pipeline1),\n",
        "    ('gb', pipeline2),\n",
        "    ('xgb', pipeline3)\n",
        "], voting='soft')\n",
        "\n",
        "# Fitting the ensemble model\n",
        "ensemble_model.fit(X_train, y_train)\n",
        "\n",
        "predictions = ensemble_model.predict(X_test) # Predictions"
      ]
    },
    {
      "cell_type": "code",
      "execution_count": 23,
      "metadata": {},
      "outputs": [
        {
          "data": {
            "text/plain": [
              "['D:/Estiven/Datos/Proyectos/CognoRise_Infotech/models/ensemble_model-sentiment.joblib']"
            ]
          },
          "execution_count": 23,
          "metadata": {},
          "output_type": "execute_result"
        }
      ],
      "source": [
        "from joblib import dump\n",
        "\n",
        "# Saving the model\n",
        "dump(ensemble_model, 'C:/Ankit/Dataset/CognoRise_Infotech/models/ensemble_model-sentiment.joblib') "
      ]
    },
    {
      "cell_type": "code",
      "execution_count": 24,
      "metadata": {
        "colab": {
          "base_uri": "https://localhost:8080/",
          "height": 607
        },
        "id": "UZgRfykfc6sq",
        "outputId": "3b00af48-91e8-4bff-bbc6-dfabe81ddf81"
      },
      "outputs": [
        {
          "data": {
            "image/png": "[encoded data removed]",
            "text/plain": [
              "<Figure size 1200x600 with 2 Axes>"
            ]
          },
          "metadata": {},
          "output_type": "display_data"
        }
      ],
      "source": [
        "# Confusion Matrix\n",
        "cm = confusion_matrix(y_test, predictions)\n",
        "\n",
        "fig, (ax1) = plt.subplots(1, 1, figsize=(12, 6))\n",
        "\n",
        "# Plotting Confusion Matrix\n",
        "sns.heatmap(cm, annot=True, fmt='d', ax=ax1)\n",
        "ax1.set_title('Confusion Matrix')\n",
        "ax1.set_xlabel('Predicted')\n",
        "ax1.set_ylabel('Actual')\n",
        "\n",
        "plt.tight_layout()\n",
        "plt.show()"
      ]
    },
    {
      "cell_type": "code",
      "execution_count": 25,
      "metadata": {
        "colab": {
          "base_uri": "https://localhost:8080/"
        },
        "id": "kq2EOiTFc6su",
        "outputId": "65c563ef-c853-4d69-a606-9519019e76f6"
      },
      "outputs": [
        {
          "name": "stdout",
          "output_type": "stream",
          "text": [
            "Training Classification Report:\n",
            "              precision    recall  f1-score   support\n",
            "\n",
            "           0       0.75      0.83      0.79      7501\n",
            "           1       0.76      0.73      0.74      7501\n",
            "           2       0.78      0.69      0.73      7501\n",
            "           3       0.78      0.71      0.74      7502\n",
            "           4       0.79      0.90      0.85      7501\n",
            "\n",
            "    accuracy                           0.77     37506\n",
            "   macro avg       0.77      0.77      0.77     37506\n",
            "weighted avg       0.77      0.77      0.77     37506\n",
            "\n",
            "\n",
            "Testing Classification Report:\n",
            "              precision    recall  f1-score   support\n",
            "\n",
            "           0       0.56      0.63      0.59      3215\n",
            "           1       0.41      0.39      0.40      3215\n",
            "           2       0.43      0.36      0.39      3215\n",
            "           3       0.55      0.50      0.52      3214\n",
            "           4       0.69      0.80      0.74      3215\n",
            "\n",
            "    accuracy                           0.54     16074\n",
            "   macro avg       0.53      0.54      0.53     16074\n",
            "weighted avg       0.53      0.54      0.53     16074\n",
            "\n"
          ]
        }
      ],
      "source": [
        "# Predictions on training set\n",
        "train_predictions = ensemble_model.predict(X_train)\n",
        "\n",
        "# Classification report for training set\n",
        "train_report = classification_report(y_train, train_predictions)\n",
        "print(f\"Training Classification Report:\\n{train_report}\\n\")\n",
        "\n",
        "# Classification report for testing set\n",
        "test_report = classification_report(y_test, predictions)\n",
        "print(f\"Testing Classification Report:\\n{test_report}\")"
      ]
    },
    {
      "cell_type": "markdown",
      "metadata": {},
      "source": [
        "The model performed fairly well on the training data, with an overall accuracy of 75%. The precision, recall, and F1-score were also around 75% for each class, indicating a balanced performance across all classes. The model performed best on class 4, with a precision of 77% and recall of 89%.\n",
        "\n",
        "However, the model's performance dropped on the testing data, with an overall accuracy of 53%. The precision, recall, and F1-score were around 52% for each class. The model still performed best on class 4, with a precision of 67% and recall of 79%.\n",
        "\n",
        "The drop in performance from training to testing suggests that the model may be overfitting the training data.\n",
        "\n",
        "Given the time, it was not possible to further optimize this model. However, there are several strategies that could potentially improve its performance:\n",
        "\n",
        "1. **Regularization**: This technique adds a penalty term to the loss function to discourage overfitting. Common methods include L1 and L2 regularization.\n",
        "\n",
        "2. **Cross-validation**: This technique involves splitting the training data into several subsets and training the model on each subset. This can help to ensure that the model generalizes well to unseen data.\n",
        "\n",
        "4. **Hyperparameter tuning**: This involves adjusting the parameters of the model to find the optimal values. This can be done manually, or using techniques like grid search or random search.\n",
        "\n",
        "5. **Feature engineering**: This involves creating new features from the existing data, which can help to improve the model's performance."
      ]
    },
    {
      "cell_type": "markdown",
      "metadata": {},
      "source": [
        "# Sentiment analysis using textblob Python library"
      ]
    },
    {
      "cell_type": "markdown",
      "metadata": {},
      "source": [
        "TextBlob is a Python library for processing textual data. It provides a simple API for diving into common natural language processing (NLP) tasks such as part-of-speech tagging, noun phrase extraction, sentiment analysis, classification, translation, and more.\n",
        "\n",
        "In the context of sentiment analysis, TextBlob uses a pre-trained analyzer to assign polarity scores to the input text. The polarity score is a float within the range [-1.0, 1.0].\n",
        "\n",
        "In this code, I will use TextBlob to perform sentiment analysis on the `review` column of the DataFrame. Here's a step-by-step breakdown of the cell:\n",
        "\n",
        "1. I define a function `get_sentiment` that takes a text input and returns the polarity score of the text using TextBlob's sentiment analysis capability.\n",
        "\n",
        "2. I apply a preprocessing function to the `review` and `title` columns. This is the same function used before to process the data in the X variable to train the classification ensemble model.\n",
        "\n",
        "3. I apply the `get_sentiment` function to the `title` column, creating a new column `sentiment` that contains the sentiment score of each review. This score represents the overall sentiment of the review, with positive scores indicating positive sentiment, negative scores indicating negative sentiment, and scores close to zero indicating neutral sentiment."
      ]
    },
    {
      "cell_type": "code",
      "execution_count": 26,
      "metadata": {},
      "outputs": [],
      "source": [
        "from textblob import TextBlob\n",
        "\n",
        "def get_sentiment(text):\n",
        "    \"\"\"\n",
        "    Function to apply sentiment analysis to a text.\n",
        "    Args:\n",
        "    text : str : The text to analyze.\n",
        "    Returns:\n",
        "    float : The sentiment polarity of the text.\n",
        "    \"\"\"\n",
        "    blob = TextBlob(str(text))\n",
        "    return blob.sentiment.polarity\n",
        "\n",
        "# Preprocess text data\n",
        "df.dropna(inplace=True)\n",
        "df['review'].apply(preprocess_text)\n",
        "df['title'].apply(preprocess_text)\n",
        "\n",
        "# Apply sentiment analysis on the 'review' column\n",
        "df['sentiment'] = df['review'].apply(get_sentiment)"
      ]
    },
    {
      "cell_type": "markdown",
      "metadata": {},
      "source": [
        "From the sentiment analysis and the graphs provided, it can be concluded the following:\n",
        "- There are more positive reviews than the sum of neutral and negative, which is great.\n",
        "- The tendency of the sentiment by label tend to increase as seen in the boxplots. The higher the label, the higher the mean of the boxplot, meaning a more positive sentiment."
      ]
    },
    {
      "cell_type": "code",
      "execution_count": 27,
      "metadata": {},
      "outputs": [
        {
          "data": {
            "image/png": "[encoded data removed]",
            "text/plain": [
              "<Figure size 1800x600 with 2 Axes>"
            ]
          },
          "metadata": {},
          "output_type": "display_data"
        }
      ],
      "source": [
        "fig, axs = plt.subplots(1, 2, figsize=(18, 6))\n",
        "\n",
        "# Function to categorize sentiment\n",
        "def get_sentiment_category(score):\n",
        "    if score < 0:\n",
        "        return 'Negative'\n",
        "    elif score > 0:\n",
        "        return 'Positive'\n",
        "    else:\n",
        "        return 'Neutral'\n",
        "\n",
        "df['sentiment_category'] = df['sentiment'].apply(get_sentiment_category)\n",
        "\n",
        "# Subplot for sentiment category counts\n",
        "sns.countplot(x='sentiment_category', data=df, order=['Negative', 'Neutral', 'Positive'], ax=axs[0], color='skyblue')\n",
        "axs[0].set_title('Sentiment category counts', fontsize=16)\n",
        "axs[0].set_xlabel('Sentiment category', fontsize=14)\n",
        "axs[0].set_ylabel('Count', fontsize=14)\n",
        "axs[0].grid(True)\n",
        "\n",
        "# Subplot for sentiment scores by review label\n",
        "sns.boxplot(x='review_label', y='sentiment', data=df, ax=axs[1], color='blue')\n",
        "axs[1].set_title('Sentiment scores by review label', fontsize=16)\n",
        "axs[1].set_xlabel('Review label', fontsize=14)\n",
        "axs[1].set_ylabel('Sentiment score', fontsize=14)\n",
        "axs[1].grid(True)\n",
        "\n",
        "plt.tight_layout()\n",
        "plt.show()"
      ]
    },
    {
      "cell_type": "code",
      "execution_count": 28,
      "metadata": {},
      "outputs": [
        {
          "name": "stdout",
          "output_type": "stream",
          "text": [
            "Count of each sentiment category:\n",
            "sentiment_category\n",
            "Positive    210916\n",
            "Negative     23568\n",
            "Neutral      12777\n",
            "Name: count, dtype: int64\n",
            "\n",
            "Mean sentiment score for each review label:\n",
            "review_label\n",
            "1   -0.083990\n",
            "2    0.007008\n",
            "3    0.110601\n",
            "4    0.268407\n",
            "5    0.457667\n",
            "Name: sentiment, dtype: float64\n"
          ]
        }
      ],
      "source": [
        "print(\"Count of each sentiment category:\")\n",
        "print(df['sentiment_category'].value_counts())\n",
        "\n",
        "print(\"\\nMean sentiment score for each review label:\")\n",
        "print(df.groupby('review_label')['sentiment'].mean())"
      ]
    }
  ],
  "metadata": {
    "colab": {
      "provenance": []
    },
    "kernelspec": {
      "display_name": "Python 3",
      "name": "python3"
    },
    "language_info": {
      "codemirror_mode": {
        "name": "ipython",
        "version": 3
      },
      "file_extension": ".py",
      "mimetype": "text/x-python",
      "name": "python",
      "nbconvert_exporter": "python",
      "pygments_lexer": "ipython3",
      "version": "3.11.2"
    }
  },
  "nbformat": 4,
  "nbformat_minor": 0
}
